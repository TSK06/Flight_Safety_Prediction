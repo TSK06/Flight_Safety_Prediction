{
 "cells": [
  {
   "cell_type": "code",
   "execution_count": null,
   "metadata": {},
   "outputs": [],
   "source": [
    "#pip install openmeteo-requests\n",
    "#pip install requests-cache retry-requests numpy pandas"
   ]
  },
  {
   "cell_type": "code",
   "execution_count": 2,
   "metadata": {},
   "outputs": [
    {
     "name": "stdout",
     "output_type": "stream",
     "text": [
      "Coordinates 52.52000045776367°N 13.419998168945312°E\n",
      "Elevation 38.0 m asl\n",
      "Timezone None None\n",
      "Timezone difference to GMT+0 0 s\n",
      "                         date  temperature_2m\n",
      "0   2024-08-20 00:00:00+00:00       14.595500\n",
      "1   2024-08-20 01:00:00+00:00       14.095500\n",
      "2   2024-08-20 02:00:00+00:00       13.745500\n",
      "3   2024-08-20 03:00:00+00:00       13.195499\n",
      "4   2024-08-20 04:00:00+00:00       12.895500\n",
      "..                        ...             ...\n",
      "163 2024-08-26 19:00:00+00:00       18.419500\n",
      "164 2024-08-26 20:00:00+00:00       16.919500\n",
      "165 2024-08-26 21:00:00+00:00       15.669499\n",
      "166 2024-08-26 22:00:00+00:00       14.819500\n",
      "167 2024-08-26 23:00:00+00:00       14.269500\n",
      "\n",
      "[168 rows x 2 columns]\n"
     ]
    }
   ],
   "source": [
    "import openmeteo_requests\n",
    "\n",
    "import requests_cache\n",
    "import pandas as pd\n",
    "from retry_requests import retry\n",
    "\n",
    "\n",
    "# Setup the Open-Meteo API client with cache and retry on error\n",
    "cache_session = requests_cache.CachedSession('.cache', expire_after = 3600)\n",
    "retry_session = retry(cache_session, retries = 5, backoff_factor = 0.2)\n",
    "openmeteo = openmeteo_requests.Client(session = retry_session)\n",
    "\n",
    "# Make sure all required weather variables are listed here\n",
    "# The order of variables in hourly or daily is important to assign them correctly below\n",
    "url = \"https://api.open-meteo.com/v1/forecast\"\n",
    "params = {\n",
    "\t\"latitude\": 52.52,\n",
    "\t\"longitude\": 13.41,\n",
    "\t\"hourly\": \"temperature_2m\"\n",
    "}\n",
    "responses = openmeteo.weather_api(url, params=params)\n",
    "\n",
    "# Process first location. Add a for-loop for multiple locations or weather models\n",
    "response = responses[0]\n",
    "print(f\"Coordinates {response.Latitude()}°N {response.Longitude()}°E\")\n",
    "print(f\"Elevation {response.Elevation()} m asl\")\n",
    "print(f\"Timezone {response.Timezone()} {response.TimezoneAbbreviation()}\")\n",
    "print(f\"Timezone difference to GMT+0 {response.UtcOffsetSeconds()} s\")\n",
    "\n",
    "# Process hourly data. The order of variables needs to be the same as requested.\n",
    "hourly = response.Hourly()\n",
    "hourly_temperature_2m = hourly.Variables(0).ValuesAsNumpy()\n",
    "\n",
    "hourly_data = {\"date\": pd.date_range(\n",
    "\tstart = pd.to_datetime(hourly.Time(), unit = \"s\", utc = True),\n",
    "\tend = pd.to_datetime(hourly.TimeEnd(), unit = \"s\", utc = True),\n",
    "\tfreq = pd.Timedelta(seconds = hourly.Interval()),\n",
    "\tinclusive = \"left\"\n",
    ")}\n",
    "hourly_data[\"temperature_2m\"] = hourly_temperature_2m\n",
    "\n",
    "hourly_dataframe = pd.DataFrame(data = hourly_data)\n",
    "print(hourly_dataframe)\n",
    "\n",
    "\n"
   ]
  },
  {
   "cell_type": "code",
   "execution_count": 28,
   "metadata": {},
   "outputs": [
    {
     "name": "stdout",
     "output_type": "stream",
     "text": [
      "Coordinates of Pune: (18.5213738, 73.8545071)\n"
     ]
    }
   ],
   "source": [
    "from geopy.geocoders import Nominatim\n",
    "\n",
    "def get_coordinates(location_name):\n",
    "    geolocator = Nominatim(user_agent=\"your_app_name\")\n",
    "    location = geolocator.geocode(location_name)\n",
    "    if location:\n",
    "        return location.latitude, location.longitude\n",
    "    else:\n",
    "        return None\n",
    "\n",
    "# Example usage:\n",
    "location_name = \"Pune\"\n",
    "coordinates = get_coordinates(location_name)\n",
    "if coordinates:\n",
    "    print(f\"Coordinates of {location_name}: {coordinates}\")\n",
    "else:\n",
    "    print(\"Location not found.\")\n"
   ]
  },
  {
   "cell_type": "code",
   "execution_count": 29,
   "metadata": {},
   "outputs": [
    {
     "name": "stdout",
     "output_type": "stream",
     "text": [
      "Coordinates 18.625°N 74.0°E\n",
      "Elevation 540.0 m asl\n",
      "Timezone None None\n",
      "Timezone difference to GMT+0 0 s\n",
      "                         date  rain  visibility  wind_speed_180m  \\\n",
      "0   2024-08-20 00:00:00+00:00   0.0     24140.0         4.693826   \n",
      "1   2024-08-20 01:00:00+00:00   0.0     24140.0         5.351785   \n",
      "2   2024-08-20 02:00:00+00:00   0.0     24140.0         3.600000   \n",
      "3   2024-08-20 03:00:00+00:00   0.0     24140.0         2.595997   \n",
      "4   2024-08-20 04:00:00+00:00   0.0     24140.0         2.305125   \n",
      "..                        ...   ...         ...              ...   \n",
      "163 2024-08-26 19:00:00+00:00   0.0      4320.0        29.354902   \n",
      "164 2024-08-26 20:00:00+00:00   0.0      8360.0        30.018473   \n",
      "165 2024-08-26 21:00:00+00:00   0.0     12380.0        30.351225   \n",
      "166 2024-08-26 22:00:00+00:00   0.0      8300.0        30.018473   \n",
      "167 2024-08-26 23:00:00+00:00   0.0      4200.0        29.827904   \n",
      "\n",
      "     temperature_180m  \n",
      "0           22.960001  \n",
      "1           22.860001  \n",
      "2           22.860001  \n",
      "3           23.160000  \n",
      "4           23.760000  \n",
      "..                ...  \n",
      "163         22.160000  \n",
      "164         22.059999  \n",
      "165         22.059999  \n",
      "166         21.960001  \n",
      "167         21.960001  \n",
      "\n",
      "[168 rows x 5 columns]\n"
     ]
    }
   ],
   "source": [
    "params = {\n",
    "\t\"latitude\": 18.5213738,\n",
    "\t\"longitude\": 73.854,\n",
    "\t\"hourly\": [\"rain\", \"visibility\", \"wind_speed_180m\", \"temperature_180m\"]\n",
    "}\n",
    "responses = openmeteo.weather_api(url, params=params)\n",
    "\n",
    "# Process first location. Add a for-loop for multiple locations or weather models\n",
    "response = responses[0]\n",
    "print(f\"Coordinates {response.Latitude()}°N {response.Longitude()}°E\")\n",
    "print(f\"Elevation {response.Elevation()} m asl\")\n",
    "print(f\"Timezone {response.Timezone()} {response.TimezoneAbbreviation()}\")\n",
    "print(f\"Timezone difference to GMT+0 {response.UtcOffsetSeconds()} s\")\n",
    "\n",
    "# Process hourly data. The order of variables needs to be the same as requested.\n",
    "hourly = response.Hourly()\n",
    "hourly_rain = hourly.Variables(0).ValuesAsNumpy()\n",
    "hourly_visibility = hourly.Variables(1).ValuesAsNumpy()\n",
    "hourly_wind_speed_180m = hourly.Variables(2).ValuesAsNumpy()\n",
    "hourly_temperature_180m = hourly.Variables(3).ValuesAsNumpy()\n",
    "\n",
    "hourly_data = {\"date\": pd.date_range(\n",
    "\tstart = pd.to_datetime(hourly.Time(), unit = \"s\", utc = True),\n",
    "\tend = pd.to_datetime(hourly.TimeEnd(), unit = \"s\", utc = True),\n",
    "\tfreq = pd.Timedelta(seconds = hourly.Interval()),\n",
    "\tinclusive = \"left\"\n",
    ")}\n",
    "hourly_data[\"rain\"] = hourly_rain\n",
    "hourly_data[\"visibility\"] = hourly_visibility\n",
    "hourly_data[\"wind_speed_180m\"] = hourly_wind_speed_180m\n",
    "hourly_data[\"temperature_180m\"] = hourly_temperature_180m\n",
    "\n",
    "hourly_dataframe = pd.DataFrame(data = hourly_data)\n",
    "print(hourly_dataframe)\n"
   ]
  },
  {
   "cell_type": "code",
   "execution_count": 18,
   "metadata": {},
   "outputs": [],
   "source": [
    "import os"
   ]
  },
  {
   "cell_type": "code",
   "execution_count": 30,
   "metadata": {},
   "outputs": [
    {
     "name": "stdout",
     "output_type": "stream",
     "text": [
      "date                2024-08-23 11:30:00+00:00\n",
      "rain                                   0.0125\n",
      "visibility                       14156.428711\n",
      "wind_speed_180m                     18.064409\n",
      "temperature_180m                    23.808216\n",
      "dtype: object\n"
     ]
    }
   ],
   "source": [
    "#hourly_dataframe.to_csv('flight_data.csv',index=False)\n",
    "averages=hourly_dataframe.mean()\n",
    "print(averages)\n",
    "df=pd.DataFrame([averages],columns=averages.index)\n",
    "\n",
    "# File path\n",
    "file_path = 'flight_data.csv'\n",
    "\n",
    "# Check if the file already exists\n",
    "file_exists = os.path.isfile(file_path)\n",
    "\n",
    "df.to_csv('flight_data.csv',mode='a',header=not file_exists,index=False)\n"
   ]
  },
  {
   "cell_type": "code",
   "execution_count": null,
   "metadata": {},
   "outputs": [],
   "source": []
  }
 ],
 "metadata": {
  "kernelspec": {
   "display_name": "Python 3",
   "language": "python",
   "name": "python3"
  },
  "language_info": {
   "codemirror_mode": {
    "name": "ipython",
    "version": 3
   },
   "file_extension": ".py",
   "mimetype": "text/x-python",
   "name": "python",
   "nbconvert_exporter": "python",
   "pygments_lexer": "ipython3",
   "version": "3.12.1"
  }
 },
 "nbformat": 4,
 "nbformat_minor": 2
}
