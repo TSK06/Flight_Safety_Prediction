{
 "cells": [
  {
   "cell_type": "markdown",
   "metadata": {},
   "source": [
    "# Install the necessary packages\n"
   ]
  },
  {
   "cell_type": "code",
   "execution_count": 3,
   "metadata": {},
   "outputs": [],
   "source": [
    "#pip install openmeteo-requests\n",
    "#pip install requests-cache retry-requests numpy pandas\n",
    "#pip install geopy"
   ]
  },
  {
   "cell_type": "markdown",
   "metadata": {},
   "source": [
    "# Acquiring the Co-ordinates of specific cities"
   ]
  },
  {
   "cell_type": "code",
   "execution_count": 2,
   "metadata": {},
   "outputs": [
    {
     "name": "stdout",
     "output_type": "stream",
     "text": [
      "Coordinates of Pune: (18.5213738, 73.8545071)\n"
     ]
    }
   ],
   "source": [
    "from geopy.geocoders import Nominatim\n",
    "\n",
    "def get_coordinates(location_name):\n",
    "    geolocator = Nominatim(user_agent=\"your_app_name\")\n",
    "    location = geolocator.geocode(location_name)\n",
    "    if location:\n",
    "        return location.latitude, location.longitude\n",
    "    else:\n",
    "        return None\n",
    "\n",
    "# Example usage:\n",
    "location_name = \"Pune\"\n",
    "coordinates = get_coordinates(location_name)\n",
    "if coordinates:\n",
    "    print(f\"Coordinates of {location_name}: {coordinates}\")\n",
    "else:\n",
    "    print(\"Location not found.\")\n"
   ]
  },
  {
   "cell_type": "markdown",
   "metadata": {},
   "source": [
    "# Using Api to acquire weather information"
   ]
  },
  {
   "cell_type": "code",
   "execution_count": 4,
   "metadata": {},
   "outputs": [
    {
     "name": "stdout",
     "output_type": "stream",
     "text": [
      "Coordinates 18.625°N 74.0°E\n",
      "Elevation 540.0 m asl\n",
      "Timezone None None\n",
      "Timezone difference to GMT+0 0 s\n",
      "                         date  rain  visibility  wind_speed_180m  \\\n",
      "0   2024-08-26 00:00:00+00:00   0.0       140.0        32.449963   \n",
      "1   2024-08-26 01:00:00+00:00   0.0       180.0        33.724911   \n",
      "2   2024-08-26 02:00:00+00:00   0.0        60.0        32.449959   \n",
      "3   2024-08-26 03:00:00+00:00   0.0      4240.0        30.926493   \n",
      "4   2024-08-26 04:00:00+00:00   0.0     15500.0        39.523014   \n",
      "..                        ...   ...         ...              ...   \n",
      "163 2024-09-01 19:00:00+00:00   0.0      1980.0        29.598919   \n",
      "164 2024-09-01 20:00:00+00:00   0.0      2500.0        30.293522   \n",
      "165 2024-09-01 21:00:00+00:00   0.0      3000.0        30.633865   \n",
      "166 2024-09-01 22:00:00+00:00   0.0      2060.0        29.888672   \n",
      "167 2024-09-01 23:00:00+00:00   0.0      1140.0        28.799999   \n",
      "\n",
      "     temperature_180m  \n",
      "0           22.059999  \n",
      "1           21.960001  \n",
      "2           21.960001  \n",
      "3           22.260000  \n",
      "4           23.260000  \n",
      "..                ...  \n",
      "163         22.559999  \n",
      "164         22.460001  \n",
      "165         22.460001  \n",
      "166         22.360001  \n",
      "167         22.360001  \n",
      "\n",
      "[168 rows x 5 columns]\n"
     ]
    }
   ],
   "source": [
    "import openmeteo_requests\n",
    "\n",
    "import requests_cache\n",
    "import pandas as pd\n",
    "from retry_requests import retry\n",
    "\n",
    "\n",
    "# Setup the Open-Meteo API client with cache and retry on error\n",
    "cache_session = requests_cache.CachedSession('.cache', expire_after = 3600)\n",
    "retry_session = retry(cache_session, retries = 5, backoff_factor = 0.2)\n",
    "openmeteo = openmeteo_requests.Client(session = retry_session)\n",
    "\n",
    "# Make sure all required weather variables are listed here\n",
    "# The order of variables in hourly or daily is important to assign them correctly below\n",
    "url = \"https://api.open-meteo.com/v1/forecast\"\n",
    "params = {\n",
    "\t\"latitude\": 18.5213738,\n",
    "\t\"longitude\": 73.854,\n",
    "\t\"hourly\": [\"rain\", \"visibility\", \"wind_speed_180m\", \"temperature_180m\"]\n",
    "}\n",
    "responses = openmeteo.weather_api(url, params=params)\n",
    "\n",
    "# Process first location. Add a for-loop for multiple locations or weather models\n",
    "response = responses[0]\n",
    "print(f\"Coordinates {response.Latitude()}°N {response.Longitude()}°E\")\n",
    "print(f\"Elevation {response.Elevation()} m asl\")\n",
    "print(f\"Timezone {response.Timezone()} {response.TimezoneAbbreviation()}\")\n",
    "print(f\"Timezone difference to GMT+0 {response.UtcOffsetSeconds()} s\")\n",
    "\n",
    "# Process hourly data. The order of variables needs to be the same as requested.\n",
    "hourly = response.Hourly()\n",
    "hourly_rain = hourly.Variables(0).ValuesAsNumpy()\n",
    "hourly_visibility = hourly.Variables(1).ValuesAsNumpy()\n",
    "hourly_wind_speed_180m = hourly.Variables(2).ValuesAsNumpy()\n",
    "hourly_temperature_180m = hourly.Variables(3).ValuesAsNumpy()\n",
    "\n",
    "hourly_data = {\"date\": pd.date_range(\n",
    "\tstart = pd.to_datetime(hourly.Time(), unit = \"s\", utc = True),\n",
    "\tend = pd.to_datetime(hourly.TimeEnd(), unit = \"s\", utc = True),\n",
    "\tfreq = pd.Timedelta(seconds = hourly.Interval()),\n",
    "\tinclusive = \"left\"\n",
    ")}\n",
    "hourly_data[\"rain\"] = hourly_rain\n",
    "hourly_data[\"visibility\"] = hourly_visibility\n",
    "hourly_data[\"wind_speed_180m\"] = hourly_wind_speed_180m\n",
    "hourly_data[\"temperature_180m\"] = hourly_temperature_180m\n",
    "\n",
    "hourly_dataframe = pd.DataFrame(data = hourly_data)\n",
    "print(hourly_dataframe)\n"
   ]
  },
  {
   "cell_type": "markdown",
   "metadata": {},
   "source": [
    "# Writing the data into a file"
   ]
  },
  {
   "cell_type": "code",
   "execution_count": 5,
   "metadata": {},
   "outputs": [
    {
     "name": "stdout",
     "output_type": "stream",
     "text": [
      "date                2024-08-29 11:30:00+00:00\n",
      "rain                                      0.0\n",
      "visibility                        7165.119141\n",
      "wind_speed_180m                     25.219833\n",
      "temperature_180m                    23.285002\n",
      "dtype: object\n"
     ]
    }
   ],
   "source": [
    "import os\n",
    "\n",
    "averages=hourly_dataframe.mean()\n",
    "print(averages)\n",
    "df=pd.DataFrame([averages],columns=averages.index)\n",
    "\n",
    "# File path\n",
    "file_path = 'weather_data.csv'\n",
    "\n",
    "# Check if the file already exists\n",
    "file_exists = os.path.isfile(file_path)\n",
    "\n",
    "df.to_csv('flight_data.csv',mode='a',header=not file_exists,index=False)\n"
   ]
  },
  {
   "cell_type": "markdown",
   "metadata": {},
   "source": [
    "Run this process over multiple days to acquire large amount of data\n",
    "\n",
    "Flight Safety Criteria\n",
    "\n",
    "To classify flight safety, the following thresholds are used for the weather conditions:\n",
    "\n",
    "* Rain: If the rain exceeds 2.5 cm per hour, the flight is considered unsafe.\n",
    "* Visibility: If visibility is less than 1.6 km (1600 meters), the flight is considered unsafe.\n",
    "* Wind Speed at 180 meters: If the wind speed exceeds 46.3 km/h, the flight is considered unsafe.\n",
    "* Temperature at 180 meters: If the temperature is below -10°C or above 35°C, the flight is considered unsafe.\n",
    "\n",
    "These criteria help in assessing whether a flight is safe or unsafe based on the provided weather conditions."
   ]
  },
  {
   "cell_type": "markdown",
   "metadata": {},
   "source": []
  }
 ],
 "metadata": {
  "kernelspec": {
   "display_name": "Python 3",
   "language": "python",
   "name": "python3"
  },
  "language_info": {
   "codemirror_mode": {
    "name": "ipython",
    "version": 3
   },
   "file_extension": ".py",
   "mimetype": "text/x-python",
   "name": "python",
   "nbconvert_exporter": "python",
   "pygments_lexer": "ipython3",
   "version": "3.12.1"
  }
 },
 "nbformat": 4,
 "nbformat_minor": 2
}
